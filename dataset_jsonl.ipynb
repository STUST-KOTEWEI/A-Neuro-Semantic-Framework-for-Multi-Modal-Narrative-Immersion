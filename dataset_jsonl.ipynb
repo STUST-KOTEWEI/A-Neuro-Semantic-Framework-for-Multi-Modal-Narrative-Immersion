{
  "cells": [
    {
      "cell_type": "markdown",
      "metadata": {
        "colab_type": "text",
        "id": "view-in-github"
      },
      "source": [
        "<a href=\"https://colab.research.google.com/github/STUST-KOTEWEI/A-Neuro-Semantic-Framework-for-Multi-Modal-Narrative-Immersion/blob/main/dataset_jsonl.ipynb\" target=\"_parent\"><img src=\"https://colab.research.google.com/assets/colab-badge.svg\" alt=\"Open In Colab\"/></a>"
      ]
    },
    {
      "cell_type": "code",
      "execution_count": 1,
      "metadata": {
        "colab": {
          "base_uri": "https://localhost:8080/"
        },
        "id": "7mFH1sDkEzsh",
        "outputId": "4834fc6e-7b71-4d74-a7a2-e1290aec980b"
      },
      "outputs": [
        {
          "data": {
            "text/plain": [
              "{'messages': [{'role': 'system', 'content': '你是一個AI智能閱讀器，擅長為使用者生成書籍導讀。'},\n",
              "  {'role': 'user', 'content': '《三體》在講什麼？'},\n",
              "  {'role': 'assistant',\n",
              "   'content': '《三體》是劉慈欣的科幻史詩，它描繪了人類文明在面對更高等的外星文明時的掙扎與抉擇，充滿了驚奇的想像...'}]}"
            ]
          },
          "execution_count": 1,
          "metadata": {},
          "output_type": "execute_result"
        }
      ],
      "source": [
        "{\"messages\": [{\"role\": \"system\", \"content\": \"你是一個AI智能閱讀器，擅長為使用者生成書籍導讀。\"}, {\"role\": \"user\", \"content\": \"介紹一下《小王子》\"}, {\"role\": \"assistant\", \"content\": \"《小王子》是一本觸動人心的經典，它透過一位來自外星球的小王子的視角，探討了愛、失落與人生的真諦...\"}]}\n",
        "{\"messages\": [{\"role\": \"system\", \"content\": \"你是一個AI智能閱讀器，擅長為使用者生成書籍導讀。\"}, {\"role\": \"user\", \"content\": \"《三體》在講什麼？\"}, {\"role\": \"assistant\", \"content\": \"《三體》是劉慈欣的科幻史詩，它描繪了人類文明在面對更高等的外星文明時的掙扎與抉擇，充滿了驚奇的想像...\"}]}"
      ]
    }
  ],
  "metadata": {
    "colab": {
      "authorship_tag": "ABX9TyO3PIkEPflJKdep3ZTQj0PX",
      "include_colab_link": true,
      "provenance": []
    },
    "kernelspec": {
      "display_name": "venv",
      "language": "python",
      "name": "python3"
    },
    "language_info": {
      "codemirror_mode": {
        "name": "ipython",
        "version": 3
      },
      "file_extension": ".py",
      "mimetype": "text/x-python",
      "name": "python",
      "nbconvert_exporter": "python",
      "pygments_lexer": "ipython3",
      "version": "3.14.0"
    }
  },
  "nbformat": 4,
  "nbformat_minor": 0
}
